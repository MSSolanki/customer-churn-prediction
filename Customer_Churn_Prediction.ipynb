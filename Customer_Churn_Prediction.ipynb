{
 "cells": [
  {
   "cell_type": "code",
   "execution_count": 13,
   "id": "1045a3e4",
   "metadata": {},
   "outputs": [],
   "source": [
    "import pandas as pd\n",
    "import matplotlib.pyplot as plt\n",
    "import seaborn as sns\n",
    "from sklearn.model_selection import train_test_split\n",
    "from sklearn.preprocessing import StandardScaler\n",
    "from sklearn.linear_model import LogisticRegression\n",
    "from sklearn.ensemble import RandomForestClassifier, GradientBoostingClassifier\n",
    "from sklearn.metrics import accuracy_score, classification_report, confusion_matrix"
   ]
  },
  {
   "cell_type": "code",
   "execution_count": 14,
   "id": "d7836036",
   "metadata": {},
   "outputs": [],
   "source": [
    "# Step 1: Data Preparation\n",
    "data = pd.read_csv('Churn_Modelling.csv')\n",
    "X = data.drop(['RowNumber', 'CustomerId', 'Surname', 'Exited'], axis=1)\n",
    "y = data['Exited']\n",
    "X_encoded = pd.get_dummies(X)"
   ]
  },
  {
   "cell_type": "code",
   "execution_count": 15,
   "id": "5edc19ec",
   "metadata": {},
   "outputs": [],
   "source": [
    "# Step 2: Split the data into training and testing sets\n",
    "X_train, X_test, y_train, y_test = train_test_split(X_encoded, y, test_size=0.2, random_state=42)"
   ]
  },
  {
   "cell_type": "code",
   "execution_count": 16,
   "id": "bcf5071d",
   "metadata": {},
   "outputs": [
    {
     "data": {
      "text/plain": [
       "GradientBoostingClassifier()"
      ]
     },
     "execution_count": 16,
     "metadata": {},
     "output_type": "execute_result"
    }
   ],
   "source": [
    "# Step 3: Model Selection and Training (using only training data)\n",
    "scaler = StandardScaler()\n",
    "X_train = scaler.fit_transform(X_train)\n",
    "X_test = scaler.transform(X_test)\n",
    "\n",
    "logistic_regression = LogisticRegression()\n",
    "random_forest = RandomForestClassifier()\n",
    "gradient_boosting = GradientBoostingClassifier()\n",
    "logistic_regression.fit(X_train, y_train)\n",
    "random_forest.fit(X_train, y_train)\n",
    "gradient_boosting.fit(X_train, y_train)"
   ]
  },
  {
   "cell_type": "code",
   "execution_count": 17,
   "id": "074c88a5",
   "metadata": {},
   "outputs": [
    {
     "name": "stdout",
     "output_type": "stream",
     "text": [
      "Logistic Regression Accuracy (Testing Data): 0.811\n",
      "Random Forest Accuracy (Testing Data): 0.862\n",
      "Gradient Boosting Accuracy (Testing Data): 0.8645\n",
      "Logistic Regression Report (Testing Data):\n",
      "               precision    recall  f1-score   support\n",
      "\n",
      "           0       0.83      0.96      0.89      1607\n",
      "           1       0.55      0.20      0.29       393\n",
      "\n",
      "    accuracy                           0.81      2000\n",
      "   macro avg       0.69      0.58      0.59      2000\n",
      "weighted avg       0.78      0.81      0.77      2000\n",
      "\n",
      "Random Forest Report (Testing Data):\n",
      "               precision    recall  f1-score   support\n",
      "\n",
      "           0       0.88      0.96      0.92      1607\n",
      "           1       0.74      0.45      0.56       393\n",
      "\n",
      "    accuracy                           0.86      2000\n",
      "   macro avg       0.81      0.71      0.74      2000\n",
      "weighted avg       0.85      0.86      0.85      2000\n",
      "\n",
      "Gradient Boosting Report (Testing Data):\n",
      "               precision    recall  f1-score   support\n",
      "\n",
      "           0       0.88      0.96      0.92      1607\n",
      "           1       0.74      0.48      0.58       393\n",
      "\n",
      "    accuracy                           0.86      2000\n",
      "   macro avg       0.81      0.72      0.75      2000\n",
      "weighted avg       0.85      0.86      0.85      2000\n",
      "\n"
     ]
    }
   ],
   "source": [
    "# Step 4: Model Evaluation (using only testing data)\n",
    "y_pred_lr = logistic_regression.predict(X_test)\n",
    "y_pred_rf = random_forest.predict(X_test)\n",
    "y_pred_gb = gradient_boosting.predict(X_test)\n",
    "\n",
    "print(\"Logistic Regression Accuracy (Testing Data):\", accuracy_score(y_test, y_pred_lr))\n",
    "print(\"Random Forest Accuracy (Testing Data):\", accuracy_score(y_test, y_pred_rf))\n",
    "print(\"Gradient Boosting Accuracy (Testing Data):\", accuracy_score(y_test, y_pred_gb))\n",
    "\n",
    "print(\"Logistic Regression Report (Testing Data):\\n\", classification_report(y_test, y_pred_lr))\n",
    "print(\"Random Forest Report (Testing Data):\\n\", classification_report(y_test, y_pred_rf))\n",
    "print(\"Gradient Boosting Report (Testing Data):\\n\", classification_report(y_test, y_pred_gb))"
   ]
  },
  {
   "cell_type": "code",
   "execution_count": 18,
   "id": "ebcd31f8",
   "metadata": {},
   "outputs": [
    {
     "data": {
      "image/png": "[encoded data removed]",
      "text/plain": [
       "<Figure size 1080x360 with 6 Axes>"
      ]
     },
     "metadata": {
      "needs_background": "light"
     },
     "output_type": "display_data"
    }
   ],
   "source": [
    "# Step 5: Visualize the model performance on testing data (confusion matrices)\n",
    "fig, ax = plt.subplots(1, 3, figsize=(15, 5))\n",
    "\n",
    "# Confusion Matrix for Logistic Regression (Testing Data)\n",
    "confusion_lr = confusion_matrix(y_test, y_pred_lr)\n",
    "sns.heatmap(confusion_lr, annot=True, fmt='d', cmap='Blues', ax=ax[0])\n",
    "ax[0].set_title('Logistic Regression Confusion Matrix (Testing Data)')\n",
    "\n",
    "# Confusion Matrix for Random Forest (Testing Data)\n",
    "confusion_rf = confusion_matrix(y_test, y_pred_rf)\n",
    "sns.heatmap(confusion_rf, annot=True, fmt='d', cmap='Blues', ax=ax[1])\n",
    "ax[1].set_title('Random Forest Confusion Matrix (Testing Data)')\n",
    "\n",
    "# Confusion Matrix for Gradient Boosting (Testing Data)\n",
    "confusion_gb = confusion_matrix(y_test, y_pred_gb)\n",
    "sns.heatmap(confusion_gb, annot=True, fmt='d', cmap='Blues', ax=ax[2])\n",
    "ax[2].set_title('Gradient Boosting Confusion Matrix (Testing Data)')\n",
    "\n",
    "plt.show()"
   ]
  },
  {
   "cell_type": "code",
   "execution_count": null,
   "id": "d92a28dd",
   "metadata": {},
   "outputs": [],
   "source": []
  }
 ],
 "metadata": {
  "kernelspec": {
   "display_name": "Python 3 (ipykernel)",
   "language": "python",
   "name": "python3"
  },
  "language_info": {
   "codemirror_mode": {
    "name": "ipython",
    "version": 3
   },
   "file_extension": ".py",
   "mimetype": "text/x-python",
   "name": "python",
   "nbconvert_exporter": "python",
   "pygments_lexer": "ipython3",
   "version": "3.9.12"
  }
 },
 "nbformat": 4,
 "nbformat_minor": 5
}
